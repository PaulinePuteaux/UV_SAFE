{
 "cells": [
  {
   "cell_type": "markdown",
   "id": "5095f45c",
   "metadata": {},
   "source": [
    "# Practical work: Image encryption"
   ]
  },
  {
   "cell_type": "markdown",
   "id": "17308860",
   "metadata": {},
   "source": [
    "UV SAFE - IMT Nord-Europe \n",
    "\n",
    "Pauline PUTEAUX, 2022/03/25"
   ]
  },
  {
   "cell_type": "code",
   "execution_count": 1,
   "id": "04628d5b",
   "metadata": {},
   "outputs": [],
   "source": [
    "# Packages\n",
    "import numpy as np\n",
    "import matplotlib.pyplot as plt\n",
    "import skimage\n",
    "from math import *\n",
    "import random\n",
    "\n",
    "# ..."
   ]
  },
  {
   "cell_type": "markdown",
   "id": "6db2a017",
   "metadata": {},
   "source": [
    "In this exercise, we aim to study various image encryption methods. We will also take an interest in discussing their security by performing statistical measurements and trying attack scenarios."
   ]
  },
  {
   "cell_type": "markdown",
   "id": "20b10259",
   "metadata": {},
   "source": [
    "The TP report should be done as a notebook. You can use your favorite python modules. It is highly recommended to use the skimage module that represents images as numpy arrays. "
   ]
  },
  {
   "cell_type": "markdown",
   "id": "be4cc75c",
   "metadata": {},
   "source": [
    "### 1 - Image loading and analysis"
   ]
  },
  {
   "cell_type": "markdown",
   "id": "2d37b6db",
   "metadata": {},
   "source": [
    "a) Load a color image and display it."
   ]
  },
  {
   "cell_type": "markdown",
   "id": "bfc37fb9",
   "metadata": {},
   "source": [
    "b) Print the image dimensions."
   ]
  },
  {
   "cell_type": "markdown",
   "id": "b7a7766e",
   "metadata": {},
   "source": [
    "c) Display each color component (R, G and B) of the image."
   ]
  },
  {
   "cell_type": "markdown",
   "id": "6809d41e",
   "metadata": {},
   "source": [
    "d) Write a function to plot histograms associated to the three image components."
   ]
  },
  {
   "cell_type": "markdown",
   "id": "a0d6c3ff",
   "metadata": {},
   "source": [
    "e) From a color image, how can we obtain its grayscale version ? "
   ]
  },
  {
   "cell_type": "markdown",
   "id": "4d23ccb3",
   "metadata": {},
   "source": [
    "### 2 - Scrambling-based encryption"
   ]
  },
  {
   "cell_type": "markdown",
   "id": "08b9fb8d",
   "metadata": {},
   "source": [
    "a) Write a function which takes as input a number $n$ and a key $k$, creates a list $[0,n-1]$ and returns the shuffled list using $k$ as a seed. You should use the `random` package."
   ]
  },
  {
   "cell_type": "markdown",
   "id": "fd9a4c47",
   "metadata": {},
   "source": [
    "b) Write a function to scramble the pixels of an image (grayscale or color)."
   ]
  },
  {
   "cell_type": "markdown",
   "id": "5c1814ff",
   "metadata": {},
   "source": [
    "c) Write a function to perform the reverse operation."
   ]
  },
  {
   "cell_type": "markdown",
   "id": "ce4f6f48",
   "metadata": {},
   "source": [
    "d) Check that it is possible to recover the original image. To ensure this, compute the PSNR value between the recovered image and the original one. "
   ]
  },
  {
   "cell_type": "markdown",
   "id": "c0f4cb70",
   "metadata": {},
   "source": [
    "e) Write a function to scramble pixel blocks of an image (grayscale or color). You should take as input a pixel block size $b \\times b$. Then, you can consider sequences of consecutive pixels or squared pixel blocks. "
   ]
  },
  {
   "cell_type": "markdown",
   "id": "0b2bb7f8",
   "metadata": {},
   "source": [
    "### 3 - Substitution-based encryption"
   ]
  },
  {
   "cell_type": "markdown",
   "id": "42e79b6f",
   "metadata": {},
   "source": [
    "a) Write a function which takes as input an integer in the range $\\left[0,100\\right]$. This number is considered as an encryption key, used for the initialization of a pseudo-random generator. This generator will be used to obtain a pseudo-random sequence of the same size as the original image. "
   ]
  },
  {
   "cell_type": "markdown",
   "id": "c368fd0c",
   "metadata": {},
   "source": [
    "b) Using the previous function, write an image encryption method using a simple XOR operation. Test your function on an image (grayscale or color). As the XOR operation is symmetric, the decryption function is exactly the same as the encryption one: check that you are able to recover the original image. "
   ]
  },
  {
   "cell_type": "markdown",
   "id": "f5640551",
   "metadata": {},
   "source": [
    "c) Write a function to compute the Shannon entropy value of an image."
   ]
  },
  {
   "cell_type": "markdown",
   "id": "331eca69",
   "metadata": {},
   "source": [
    "d) Propose a brute force attack. Try to decrypt the encrypted image using all the possible key values in the range $\\left[0,100\\right]$. Use entropy calculations to recover the original image in clear."
   ]
  },
  {
   "cell_type": "markdown",
   "id": "0ade1f39",
   "metadata": {},
   "source": [
    "### 4 - Statistical analysis"
   ]
  },
  {
   "cell_type": "markdown",
   "id": "1f3a90fd",
   "metadata": {},
   "source": [
    "a) Write a function to compute and display an image histogram."
   ]
  },
  {
   "cell_type": "markdown",
   "id": "46415d53",
   "metadata": {},
   "source": [
    "b) Write functions to compute the statistical metrics to assess visual security (correlation coefficient, $\\chi^2$-test, NPCR, UACI). "
   ]
  },
  {
   "cell_type": "markdown",
   "id": "f67ed005",
   "metadata": {},
   "source": [
    "c) Using these functions, as well as Shannon entropy, PSNR and SSIM computations, evaluate and discuss the visual security of the implemented scrambling-based and substitution-based encryption methods."
   ]
  },
  {
   "cell_type": "markdown",
   "id": "f36bf28c",
   "metadata": {},
   "source": [
    "### 5 - Selective encryption - by bitplanes"
   ]
  },
  {
   "cell_type": "markdown",
   "id": "6a8c1fd8",
   "metadata": {},
   "source": [
    "a) Write a function to extract and display the binary plane of a grayscale image at index $k \\in \\left[0,7\\right]$ (with $k=0$, we obtain the MSB plane, and with $k=7$, the LSB plane."
   ]
  },
  {
   "cell_type": "markdown",
   "id": "26501fe1",
   "metadata": {},
   "source": [
    "b) Using the previous question and question 3.b, write a function to encrypt the $k+1$ most significant bitplanes of a grayscale image."
   ]
  },
  {
   "cell_type": "markdown",
   "id": "385b5d4b",
   "metadata": {},
   "source": [
    "### 6 - Selective encryption - by image component"
   ]
  },
  {
   "cell_type": "markdown",
   "id": "b0ada8be",
   "metadata": {},
   "source": [
    "a) Write a function which takes as input a RGB color image and a parameter indicating the color component(s) to encrypt and returns the selectively encrypted image. What do you remark ? "
   ]
  },
  {
   "cell_type": "markdown",
   "id": "d1b82538",
   "metadata": {},
   "source": [
    "b) Write a function which takes as input a RGB color image, applies the color space transformation from RGB to YCrCb and encrypts given component(s). What do you remark ? "
   ]
  },
  {
   "cell_type": "markdown",
   "id": "ae458429",
   "metadata": {},
   "source": [
    "### 7 - RSA cryptosystem"
   ]
  },
  {
   "cell_type": "markdown",
   "id": "30ee7f06",
   "metadata": {},
   "source": [
    "a) Implement the RSA encryption function applied to grayscale image, considering $p=11$, $q=23$ and $e=17$. In this simplified version, you should encrypt each pixel value separately. Note that, before encryption, you should clip all pixel values between $0$ and $n-1 = pq-1 = 252$."
   ]
  },
  {
   "cell_type": "markdown",
   "id": "ab2845f7",
   "metadata": {},
   "source": [
    "b) Write the RSA decryption function. You have to compute $e$, the modular inverse of $d$ modulo $(p-1)(q-1)$. "
   ]
  },
  {
   "cell_type": "markdown",
   "id": "8c3acb65",
   "metadata": {},
   "source": [
    "c) By computing the entropy value of the encrypted image and plotting its histogram, explain the security issue of this implementation."
   ]
  }
 ],
 "metadata": {
  "kernelspec": {
   "display_name": "Python 3.9.7 64-bit ('base': conda)",
   "language": "python",
   "name": "python397jvsc74a57bd06e0790c06a2b10906d0f192da1e30d0fa3dfdad0835a159a1a7ac2b198eaa71d"
  },
  "language_info": {
   "codemirror_mode": {
    "name": "ipython",
    "version": 3
   },
   "file_extension": ".py",
   "mimetype": "text/x-python",
   "name": "python",
   "nbconvert_exporter": "python",
   "pygments_lexer": "ipython3",
   "version": "3.9.7"
  }
 },
 "nbformat": 4,
 "nbformat_minor": 5
}
