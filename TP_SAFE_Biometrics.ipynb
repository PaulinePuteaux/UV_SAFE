{
 "cells": [
  {
   "attachments": {},
   "cell_type": "markdown",
   "metadata": {},
   "source": [
    "# Practical work: Biometrics"
   ]
  },
  {
   "attachments": {},
   "cell_type": "markdown",
   "metadata": {},
   "source": [
    "UV SAFE - IMT Nord-Europe \n",
    "\n",
    "Pauline PUTEAUX, 2024/03/26"
   ]
  },
  {
   "cell_type": "code",
   "execution_count": null,
   "metadata": {},
   "outputs": [],
   "source": [
    "# Packages\n",
    "import matplotlib.pyplot as plt\n",
    "import numpy as np\n",
    "import os\n",
    "from skimage.io import imread, imshow, imsave\n",
    "\n",
    "# ..."
   ]
  },
  {
   "attachments": {},
   "cell_type": "markdown",
   "metadata": {},
   "source": [
    "In this exercise, we aim to study face recognition using eigenfaces [1].\n",
    "\n",
    "[1] M. A. Turk and A. P. Pentland. \"Face recognition using eigenfaces.\" IEEE Computer Society Conference on Computer Vision and Pattern Recognition. IEEE Computer Society, 1991."
   ]
  },
  {
   "attachments": {},
   "cell_type": "markdown",
   "metadata": {},
   "source": [
    "You have to download the file `DB_Faces.zip` from my GitHub. It consists of a database of the faces of 37 different persons (image size = 168 x 192 pixels). For each person, there are up to 60 associated images. "
   ]
  },
  {
   "attachments": {},
   "cell_type": "markdown",
   "metadata": {},
   "source": [
    "Split the database into two subsets: one (for training) with all the faces of 35 persons, an other one (for testing) with all the faces of the remaining 2 persons. "
   ]
  },
  {
   "attachments": {},
   "cell_type": "markdown",
   "metadata": {},
   "source": [
    "### Training: computation of the eigen faces"
   ]
  },
  {
   "attachments": {},
   "cell_type": "markdown",
   "metadata": {},
   "source": [
    "a) Load the training set as a matrix $M$. Each column of this matrix is a 1D vector representing an image of the subset. "
   ]
  },
  {
   "attachments": {},
   "cell_type": "markdown",
   "metadata": {},
   "source": [
    "b) Compute the average face of the training set. A 1D vector is obtained. Visualize it as a 2D image. "
   ]
  },
  {
   "attachments": {},
   "cell_type": "markdown",
   "metadata": {},
   "source": [
    "c) Compute the matrix of eigen features $X$ associated to the training set by substracting the average face to each column of the matrix $M$. "
   ]
  },
  {
   "attachments": {},
   "cell_type": "markdown",
   "metadata": {},
   "source": [
    "d) Compute the eigen faces of the training set. To do that, I recommend that you perform a Singular Value Decomposition (SVD) using the `np.linalg.svd` function. By doing so, you will obtain the eigen vectors of the covariance matrix of $X$: they are the so-called eigen faces. "
   ]
  },
  {
   "attachments": {},
   "cell_type": "markdown",
   "metadata": {},
   "source": [
    "e) Visualize the obtained eigen faces as 2D images."
   ]
  },
  {
   "attachments": {},
   "cell_type": "markdown",
   "metadata": {},
   "source": [
    "### Testing: representation of a face in the eigen faces basis"
   ]
  },
  {
   "attachments": {},
   "cell_type": "markdown",
   "metadata": {},
   "source": [
    "a) Load the testing set as a matrix (each image is a 1D vector)."
   ]
  },
  {
   "attachments": {},
   "cell_type": "markdown",
   "metadata": {},
   "source": [
    "b) Pick a face image, substract the average face to it and visualize the result as a 2D image."
   ]
  },
  {
   "attachments": {},
   "cell_type": "markdown",
   "metadata": {},
   "source": [
    "c) Project the obtained image onto each eigen face, you then obtain a linear combination. Reconstruct the obtained image using different numbers of eigen faces (20, 50, 100, 200, 500). "
   ]
  },
  {
   "attachments": {},
   "cell_type": "markdown",
   "metadata": {},
   "source": [
    "d) To go further: Project the mean-subtracted faces associated to the two persons in the testing database to the plane constructed by the 5th and 6th eigen faces. You can notice that the projections of the two persons can easily be separated in that plane. Because of this phenomenon, we can train algorithms to recognize persons by their face (by considering more eigen faces, and thus projecting the face image in an hyperplane)."
   ]
  }
 ],
 "metadata": {
  "kernelspec": {
   "display_name": "image_processing",
   "language": "python",
   "name": "python3"
  },
  "language_info": {
   "name": "python",
   "version": "3.9.15"
  },
  "orig_nbformat": 4
 },
 "nbformat": 4,
 "nbformat_minor": 2
}
